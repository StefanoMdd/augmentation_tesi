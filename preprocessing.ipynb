{
 "cells": [
  {
   "cell_type": "code",
   "execution_count": null,
   "metadata": {},
   "outputs": [],
   "source": [
    "import ants\n",
    "image = ants.image_read( ants.get_ants_data('r/home/stefano/projects/augmentation/OASIS_BRAIN_1/traghetto/data/sub-OAS30010/ses-d0068/anat/sub-OAS30010_ses-d0068_T1w.nii.gz') )\n",
    "image_n3 = ants.n3_bias_field_correction(image)"
   ]
  },
  {
   "cell_type": "code",
   "execution_count": null,
   "metadata": {},
   "outputs": [],
   "source": [
    "import numpy"
   ]
  }
 ],
 "metadata": {
  "language_info": {
   "name": "python"
  }
 },
 "nbformat": 4,
 "nbformat_minor": 2
}
